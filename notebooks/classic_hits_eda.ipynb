{
 "cells": [
  {
   "cell_type": "markdown",
   "id": "3b44b653408136c1",
   "metadata": {},
   "source": [
    "### Data Collection"
   ]
  },
  {
   "cell_type": "markdown",
   "id": "e588aeab985e6318",
   "metadata": {},
   "source": [
    "**Import Pandas**"
   ]
  },
  {
   "cell_type": "code",
   "id": "initial_id",
   "metadata": {
    "ExecuteTime": {
     "end_time": "2024-10-04T01:30:37.817105Z",
     "start_time": "2024-10-04T01:30:37.814325Z"
    }
   },
   "source": [
    "import pandas as pd"
   ],
   "outputs": [],
   "execution_count": 25
  },
  {
   "cell_type": "markdown",
   "id": "4fac1e8511cd8dec",
   "metadata": {},
   "source": "**Load Dataset**"
  },
  {
   "cell_type": "code",
   "id": "5020d9bffb2638a6",
   "metadata": {
    "ExecuteTime": {
     "end_time": "2024-10-04T01:30:37.954399Z",
     "start_time": "2024-10-04T01:30:37.918679Z"
    }
   },
   "source": [
    "df = pd.read_csv('../data/15000_spotify_tracks.csv')"
   ],
   "outputs": [],
   "execution_count": 26
  },
  {
   "cell_type": "markdown",
   "id": "7926b00adf3f52c0",
   "metadata": {},
   "source": "**Check Data Types**"
  },
  {
   "metadata": {
    "ExecuteTime": {
     "end_time": "2024-10-04T01:30:38.037496Z",
     "start_time": "2024-10-04T01:30:38.031645Z"
    }
   },
   "cell_type": "code",
   "source": [
    "data_types = df.dtypes\n",
    "print(data_types)"
   ],
   "id": "d36b9caec8075a61",
   "outputs": [
    {
     "name": "stdout",
     "output_type": "stream",
     "text": [
      "Track                object\n",
      "Artist               object\n",
      "Year                  int64\n",
      "Duration              int64\n",
      "Time_Signature        int64\n",
      "Danceability        float64\n",
      "Energy              float64\n",
      "Key                   int64\n",
      "Loudness            float64\n",
      "Mode                  int64\n",
      "Speechiness         float64\n",
      "Acousticness        float64\n",
      "Instrumentalness    float64\n",
      "Liveness            float64\n",
      "Valence             float64\n",
      "Tempo               float64\n",
      "Popularity            int64\n",
      "Genre                object\n",
      "dtype: object\n"
     ]
    }
   ],
   "execution_count": 27
  },
  {
   "metadata": {},
   "cell_type": "markdown",
   "source": "### Data Exploration",
   "id": "73137368fa2fb9de"
  },
  {
   "metadata": {},
   "cell_type": "markdown",
   "source": "**Understanding the Structure**",
   "id": "c1fbea5072a486fe"
  },
  {
   "metadata": {},
   "cell_type": "markdown",
   "source": "**View First Few Rows**",
   "id": "110e140bf144f5c6"
  },
  {
   "metadata": {
    "ExecuteTime": {
     "end_time": "2024-10-04T01:30:38.157466Z",
     "start_time": "2024-10-04T01:30:38.147115Z"
    }
   },
   "cell_type": "code",
   "source": "df.head()",
   "id": "3141c682d0661e3a",
   "outputs": [
    {
     "data": {
      "text/plain": [
       "                     Track          Artist  Year  Duration  Time_Signature  \\\n",
       "0         Hey Jack Kerouac  10,000 Maniacs  1987    206413               4   \n",
       "1         Like the Weather  10,000 Maniacs  1987    236653               4   \n",
       "2  What's the Matter Here?  10,000 Maniacs  1987    291173               4   \n",
       "3               Trouble Me  10,000 Maniacs  1989    193560               4   \n",
       "4    Candy Everybody Wants  10,000 Maniacs  1992    185960               4   \n",
       "\n",
       "   Danceability  Energy  Key  Loudness  Mode  Speechiness  Acousticness  \\\n",
       "0         0.616   0.511    6   -15.894     1       0.0279       0.03840   \n",
       "1         0.770   0.459    1   -17.453     1       0.0416       0.11200   \n",
       "2         0.593   0.816    9    -7.293     1       0.0410       0.00449   \n",
       "3         0.861   0.385    2   -10.057     1       0.0341       0.15400   \n",
       "4         0.622   0.876   10    -6.310     1       0.0305       0.01930   \n",
       "\n",
       "   Instrumentalness  Liveness  Valence    Tempo  Popularity      Genre  \n",
       "0          0.000000    0.1500    0.604  132.015          40  Alt. Rock  \n",
       "1          0.003430    0.1450    0.963  133.351          43  Alt. Rock  \n",
       "2          0.000032    0.0896    0.519   99.978          12  Alt. Rock  \n",
       "3          0.000000    0.1230    0.494  117.913          47  Alt. Rock  \n",
       "4          0.006840    0.0987    0.867  104.970          43  Alt. Rock  "
      ],
      "text/html": [
       "<div>\n",
       "<style scoped>\n",
       "    .dataframe tbody tr th:only-of-type {\n",
       "        vertical-align: middle;\n",
       "    }\n",
       "\n",
       "    .dataframe tbody tr th {\n",
       "        vertical-align: top;\n",
       "    }\n",
       "\n",
       "    .dataframe thead th {\n",
       "        text-align: right;\n",
       "    }\n",
       "</style>\n",
       "<table border=\"1\" class=\"dataframe\">\n",
       "  <thead>\n",
       "    <tr style=\"text-align: right;\">\n",
       "      <th></th>\n",
       "      <th>Track</th>\n",
       "      <th>Artist</th>\n",
       "      <th>Year</th>\n",
       "      <th>Duration</th>\n",
       "      <th>Time_Signature</th>\n",
       "      <th>Danceability</th>\n",
       "      <th>Energy</th>\n",
       "      <th>Key</th>\n",
       "      <th>Loudness</th>\n",
       "      <th>Mode</th>\n",
       "      <th>Speechiness</th>\n",
       "      <th>Acousticness</th>\n",
       "      <th>Instrumentalness</th>\n",
       "      <th>Liveness</th>\n",
       "      <th>Valence</th>\n",
       "      <th>Tempo</th>\n",
       "      <th>Popularity</th>\n",
       "      <th>Genre</th>\n",
       "    </tr>\n",
       "  </thead>\n",
       "  <tbody>\n",
       "    <tr>\n",
       "      <th>0</th>\n",
       "      <td>Hey Jack Kerouac</td>\n",
       "      <td>10,000 Maniacs</td>\n",
       "      <td>1987</td>\n",
       "      <td>206413</td>\n",
       "      <td>4</td>\n",
       "      <td>0.616</td>\n",
       "      <td>0.511</td>\n",
       "      <td>6</td>\n",
       "      <td>-15.894</td>\n",
       "      <td>1</td>\n",
       "      <td>0.0279</td>\n",
       "      <td>0.03840</td>\n",
       "      <td>0.000000</td>\n",
       "      <td>0.1500</td>\n",
       "      <td>0.604</td>\n",
       "      <td>132.015</td>\n",
       "      <td>40</td>\n",
       "      <td>Alt. Rock</td>\n",
       "    </tr>\n",
       "    <tr>\n",
       "      <th>1</th>\n",
       "      <td>Like the Weather</td>\n",
       "      <td>10,000 Maniacs</td>\n",
       "      <td>1987</td>\n",
       "      <td>236653</td>\n",
       "      <td>4</td>\n",
       "      <td>0.770</td>\n",
       "      <td>0.459</td>\n",
       "      <td>1</td>\n",
       "      <td>-17.453</td>\n",
       "      <td>1</td>\n",
       "      <td>0.0416</td>\n",
       "      <td>0.11200</td>\n",
       "      <td>0.003430</td>\n",
       "      <td>0.1450</td>\n",
       "      <td>0.963</td>\n",
       "      <td>133.351</td>\n",
       "      <td>43</td>\n",
       "      <td>Alt. Rock</td>\n",
       "    </tr>\n",
       "    <tr>\n",
       "      <th>2</th>\n",
       "      <td>What's the Matter Here?</td>\n",
       "      <td>10,000 Maniacs</td>\n",
       "      <td>1987</td>\n",
       "      <td>291173</td>\n",
       "      <td>4</td>\n",
       "      <td>0.593</td>\n",
       "      <td>0.816</td>\n",
       "      <td>9</td>\n",
       "      <td>-7.293</td>\n",
       "      <td>1</td>\n",
       "      <td>0.0410</td>\n",
       "      <td>0.00449</td>\n",
       "      <td>0.000032</td>\n",
       "      <td>0.0896</td>\n",
       "      <td>0.519</td>\n",
       "      <td>99.978</td>\n",
       "      <td>12</td>\n",
       "      <td>Alt. Rock</td>\n",
       "    </tr>\n",
       "    <tr>\n",
       "      <th>3</th>\n",
       "      <td>Trouble Me</td>\n",
       "      <td>10,000 Maniacs</td>\n",
       "      <td>1989</td>\n",
       "      <td>193560</td>\n",
       "      <td>4</td>\n",
       "      <td>0.861</td>\n",
       "      <td>0.385</td>\n",
       "      <td>2</td>\n",
       "      <td>-10.057</td>\n",
       "      <td>1</td>\n",
       "      <td>0.0341</td>\n",
       "      <td>0.15400</td>\n",
       "      <td>0.000000</td>\n",
       "      <td>0.1230</td>\n",
       "      <td>0.494</td>\n",
       "      <td>117.913</td>\n",
       "      <td>47</td>\n",
       "      <td>Alt. Rock</td>\n",
       "    </tr>\n",
       "    <tr>\n",
       "      <th>4</th>\n",
       "      <td>Candy Everybody Wants</td>\n",
       "      <td>10,000 Maniacs</td>\n",
       "      <td>1992</td>\n",
       "      <td>185960</td>\n",
       "      <td>4</td>\n",
       "      <td>0.622</td>\n",
       "      <td>0.876</td>\n",
       "      <td>10</td>\n",
       "      <td>-6.310</td>\n",
       "      <td>1</td>\n",
       "      <td>0.0305</td>\n",
       "      <td>0.01930</td>\n",
       "      <td>0.006840</td>\n",
       "      <td>0.0987</td>\n",
       "      <td>0.867</td>\n",
       "      <td>104.970</td>\n",
       "      <td>43</td>\n",
       "      <td>Alt. Rock</td>\n",
       "    </tr>\n",
       "  </tbody>\n",
       "</table>\n",
       "</div>"
      ]
     },
     "execution_count": 28,
     "metadata": {},
     "output_type": "execute_result"
    }
   ],
   "execution_count": 28
  },
  {
   "metadata": {},
   "cell_type": "markdown",
   "source": "**DataFrame Information**",
   "id": "ed9839dd155b6552"
  },
  {
   "metadata": {
    "ExecuteTime": {
     "end_time": "2024-10-04T01:30:38.372519Z",
     "start_time": "2024-10-04T01:30:38.360904Z"
    }
   },
   "cell_type": "code",
   "source": "df.info()",
   "id": "fc0df27279924cfa",
   "outputs": [
    {
     "name": "stdout",
     "output_type": "stream",
     "text": [
      "<class 'pandas.core.frame.DataFrame'>\n",
      "RangeIndex: 15150 entries, 0 to 15149\n",
      "Data columns (total 18 columns):\n",
      " #   Column            Non-Null Count  Dtype  \n",
      "---  ------            --------------  -----  \n",
      " 0   Track             15150 non-null  object \n",
      " 1   Artist            15150 non-null  object \n",
      " 2   Year              15150 non-null  int64  \n",
      " 3   Duration          15150 non-null  int64  \n",
      " 4   Time_Signature    15150 non-null  int64  \n",
      " 5   Danceability      15150 non-null  float64\n",
      " 6   Energy            15150 non-null  float64\n",
      " 7   Key               15150 non-null  int64  \n",
      " 8   Loudness          15150 non-null  float64\n",
      " 9   Mode              15150 non-null  int64  \n",
      " 10  Speechiness       15150 non-null  float64\n",
      " 11  Acousticness      15150 non-null  float64\n",
      " 12  Instrumentalness  15150 non-null  float64\n",
      " 13  Liveness          15150 non-null  float64\n",
      " 14  Valence           15150 non-null  float64\n",
      " 15  Tempo             15150 non-null  float64\n",
      " 16  Popularity        15150 non-null  int64  \n",
      " 17  Genre             15150 non-null  object \n",
      "dtypes: float64(9), int64(6), object(3)\n",
      "memory usage: 2.1+ MB\n"
     ]
    }
   ],
   "execution_count": 29
  },
  {
   "metadata": {},
   "cell_type": "markdown",
   "source": "**Summary Statistics**",
   "id": "30acfd48d3933784"
  },
  {
   "metadata": {
    "ExecuteTime": {
     "end_time": "2024-10-04T01:30:38.535757Z",
     "start_time": "2024-10-04T01:30:38.506357Z"
    }
   },
   "cell_type": "code",
   "source": "df.describe()",
   "id": "81b55ff61fbb89ed",
   "outputs": [
    {
     "data": {
      "text/plain": [
       "               Year      Duration  Time_Signature  Danceability        Energy  \\\n",
       "count  15150.000000  1.515000e+04    15150.000000  15150.000000  15150.000000   \n",
       "mean    1984.709769  2.413028e+05        3.921650      0.574667      0.617691   \n",
       "std       19.482460  1.057966e+05        0.348322      0.166208      0.239527   \n",
       "min     1899.000000  2.300000e+04        0.000000      0.000000      0.000098   \n",
       "25%     1971.000000  1.803700e+05        4.000000      0.461000      0.442000   \n",
       "50%     1983.000000  2.228525e+05        4.000000      0.582000      0.644000   \n",
       "75%     1998.000000  2.751530e+05        4.000000      0.696000      0.819000   \n",
       "max     2024.000000  3.060650e+06        5.000000      0.988000      0.999000   \n",
       "\n",
       "                Key      Loudness          Mode   Speechiness  Acousticness  \\\n",
       "count  15150.000000  15150.000000  15150.000000  15150.000000  15150.000000   \n",
       "mean       5.257624     -9.154545      0.696634      0.075791      0.302651   \n",
       "std        3.569713      4.289558      0.459727      0.077704      0.317793   \n",
       "min        0.000000    -47.359000      0.000000      0.000000      0.000001   \n",
       "25%        2.000000    -11.736750      0.000000      0.034325      0.024225   \n",
       "50%        5.000000     -8.480500      1.000000      0.046400      0.167000   \n",
       "75%        8.000000     -5.955500      1.000000      0.078400      0.557000   \n",
       "max       11.000000      0.919000      1.000000      0.950000      0.996000   \n",
       "\n",
       "       Instrumentalness      Liveness       Valence         Tempo  \\\n",
       "count      15150.000000  15150.000000  15150.000000  15150.000000   \n",
       "mean           0.091046      0.200062      0.571146    120.664078   \n",
       "std            0.229075      0.175196      0.250969     29.181107   \n",
       "min            0.000000      0.012400      0.000000      0.000000   \n",
       "25%            0.000000      0.091900      0.371000     98.672500   \n",
       "50%            0.000084      0.130000      0.586000    118.777000   \n",
       "75%            0.012400      0.257000      0.782000    138.073250   \n",
       "max            0.987000      0.996000      0.989000    219.973000   \n",
       "\n",
       "         Popularity  \n",
       "count  15150.000000  \n",
       "mean      43.025809  \n",
       "std       20.788038  \n",
       "min        0.000000  \n",
       "25%       28.000000  \n",
       "50%       44.000000  \n",
       "75%       59.000000  \n",
       "max       98.000000  "
      ],
      "text/html": [
       "<div>\n",
       "<style scoped>\n",
       "    .dataframe tbody tr th:only-of-type {\n",
       "        vertical-align: middle;\n",
       "    }\n",
       "\n",
       "    .dataframe tbody tr th {\n",
       "        vertical-align: top;\n",
       "    }\n",
       "\n",
       "    .dataframe thead th {\n",
       "        text-align: right;\n",
       "    }\n",
       "</style>\n",
       "<table border=\"1\" class=\"dataframe\">\n",
       "  <thead>\n",
       "    <tr style=\"text-align: right;\">\n",
       "      <th></th>\n",
       "      <th>Year</th>\n",
       "      <th>Duration</th>\n",
       "      <th>Time_Signature</th>\n",
       "      <th>Danceability</th>\n",
       "      <th>Energy</th>\n",
       "      <th>Key</th>\n",
       "      <th>Loudness</th>\n",
       "      <th>Mode</th>\n",
       "      <th>Speechiness</th>\n",
       "      <th>Acousticness</th>\n",
       "      <th>Instrumentalness</th>\n",
       "      <th>Liveness</th>\n",
       "      <th>Valence</th>\n",
       "      <th>Tempo</th>\n",
       "      <th>Popularity</th>\n",
       "    </tr>\n",
       "  </thead>\n",
       "  <tbody>\n",
       "    <tr>\n",
       "      <th>count</th>\n",
       "      <td>15150.000000</td>\n",
       "      <td>1.515000e+04</td>\n",
       "      <td>15150.000000</td>\n",
       "      <td>15150.000000</td>\n",
       "      <td>15150.000000</td>\n",
       "      <td>15150.000000</td>\n",
       "      <td>15150.000000</td>\n",
       "      <td>15150.000000</td>\n",
       "      <td>15150.000000</td>\n",
       "      <td>15150.000000</td>\n",
       "      <td>15150.000000</td>\n",
       "      <td>15150.000000</td>\n",
       "      <td>15150.000000</td>\n",
       "      <td>15150.000000</td>\n",
       "      <td>15150.000000</td>\n",
       "    </tr>\n",
       "    <tr>\n",
       "      <th>mean</th>\n",
       "      <td>1984.709769</td>\n",
       "      <td>2.413028e+05</td>\n",
       "      <td>3.921650</td>\n",
       "      <td>0.574667</td>\n",
       "      <td>0.617691</td>\n",
       "      <td>5.257624</td>\n",
       "      <td>-9.154545</td>\n",
       "      <td>0.696634</td>\n",
       "      <td>0.075791</td>\n",
       "      <td>0.302651</td>\n",
       "      <td>0.091046</td>\n",
       "      <td>0.200062</td>\n",
       "      <td>0.571146</td>\n",
       "      <td>120.664078</td>\n",
       "      <td>43.025809</td>\n",
       "    </tr>\n",
       "    <tr>\n",
       "      <th>std</th>\n",
       "      <td>19.482460</td>\n",
       "      <td>1.057966e+05</td>\n",
       "      <td>0.348322</td>\n",
       "      <td>0.166208</td>\n",
       "      <td>0.239527</td>\n",
       "      <td>3.569713</td>\n",
       "      <td>4.289558</td>\n",
       "      <td>0.459727</td>\n",
       "      <td>0.077704</td>\n",
       "      <td>0.317793</td>\n",
       "      <td>0.229075</td>\n",
       "      <td>0.175196</td>\n",
       "      <td>0.250969</td>\n",
       "      <td>29.181107</td>\n",
       "      <td>20.788038</td>\n",
       "    </tr>\n",
       "    <tr>\n",
       "      <th>min</th>\n",
       "      <td>1899.000000</td>\n",
       "      <td>2.300000e+04</td>\n",
       "      <td>0.000000</td>\n",
       "      <td>0.000000</td>\n",
       "      <td>0.000098</td>\n",
       "      <td>0.000000</td>\n",
       "      <td>-47.359000</td>\n",
       "      <td>0.000000</td>\n",
       "      <td>0.000000</td>\n",
       "      <td>0.000001</td>\n",
       "      <td>0.000000</td>\n",
       "      <td>0.012400</td>\n",
       "      <td>0.000000</td>\n",
       "      <td>0.000000</td>\n",
       "      <td>0.000000</td>\n",
       "    </tr>\n",
       "    <tr>\n",
       "      <th>25%</th>\n",
       "      <td>1971.000000</td>\n",
       "      <td>1.803700e+05</td>\n",
       "      <td>4.000000</td>\n",
       "      <td>0.461000</td>\n",
       "      <td>0.442000</td>\n",
       "      <td>2.000000</td>\n",
       "      <td>-11.736750</td>\n",
       "      <td>0.000000</td>\n",
       "      <td>0.034325</td>\n",
       "      <td>0.024225</td>\n",
       "      <td>0.000000</td>\n",
       "      <td>0.091900</td>\n",
       "      <td>0.371000</td>\n",
       "      <td>98.672500</td>\n",
       "      <td>28.000000</td>\n",
       "    </tr>\n",
       "    <tr>\n",
       "      <th>50%</th>\n",
       "      <td>1983.000000</td>\n",
       "      <td>2.228525e+05</td>\n",
       "      <td>4.000000</td>\n",
       "      <td>0.582000</td>\n",
       "      <td>0.644000</td>\n",
       "      <td>5.000000</td>\n",
       "      <td>-8.480500</td>\n",
       "      <td>1.000000</td>\n",
       "      <td>0.046400</td>\n",
       "      <td>0.167000</td>\n",
       "      <td>0.000084</td>\n",
       "      <td>0.130000</td>\n",
       "      <td>0.586000</td>\n",
       "      <td>118.777000</td>\n",
       "      <td>44.000000</td>\n",
       "    </tr>\n",
       "    <tr>\n",
       "      <th>75%</th>\n",
       "      <td>1998.000000</td>\n",
       "      <td>2.751530e+05</td>\n",
       "      <td>4.000000</td>\n",
       "      <td>0.696000</td>\n",
       "      <td>0.819000</td>\n",
       "      <td>8.000000</td>\n",
       "      <td>-5.955500</td>\n",
       "      <td>1.000000</td>\n",
       "      <td>0.078400</td>\n",
       "      <td>0.557000</td>\n",
       "      <td>0.012400</td>\n",
       "      <td>0.257000</td>\n",
       "      <td>0.782000</td>\n",
       "      <td>138.073250</td>\n",
       "      <td>59.000000</td>\n",
       "    </tr>\n",
       "    <tr>\n",
       "      <th>max</th>\n",
       "      <td>2024.000000</td>\n",
       "      <td>3.060650e+06</td>\n",
       "      <td>5.000000</td>\n",
       "      <td>0.988000</td>\n",
       "      <td>0.999000</td>\n",
       "      <td>11.000000</td>\n",
       "      <td>0.919000</td>\n",
       "      <td>1.000000</td>\n",
       "      <td>0.950000</td>\n",
       "      <td>0.996000</td>\n",
       "      <td>0.987000</td>\n",
       "      <td>0.996000</td>\n",
       "      <td>0.989000</td>\n",
       "      <td>219.973000</td>\n",
       "      <td>98.000000</td>\n",
       "    </tr>\n",
       "  </tbody>\n",
       "</table>\n",
       "</div>"
      ]
     },
     "execution_count": 30,
     "metadata": {},
     "output_type": "execute_result"
    }
   ],
   "execution_count": 30
  },
  {
   "metadata": {},
   "cell_type": "markdown",
   "source": "**Column Names**",
   "id": "e0dfcfc7c65594d1"
  },
  {
   "metadata": {
    "ExecuteTime": {
     "end_time": "2024-10-04T01:30:38.765834Z",
     "start_time": "2024-10-04T01:30:38.751882Z"
    }
   },
   "cell_type": "code",
   "source": [
    "df.columns = df.columns.str.casefold()\n",
    "\n",
    "for col in df.columns:\n",
    "    print(\"-\" * 50)\n",
    "    print(col + f\" ({str(df[col].dtype)})\")\n",
    "    print(\"\\tNA Values: \", df[col].isna().sum())\n",
    "    print(\"\\tUnique Values: \", df[col].nunique())\n",
    "print(\"-\" * 50)"
   ],
   "id": "3aff1ef39ac55cf0",
   "outputs": [
    {
     "name": "stdout",
     "output_type": "stream",
     "text": [
      "--------------------------------------------------\n",
      "track (object)\n",
      "\tNA Values:  0\n",
      "\tUnique Values:  13771\n",
      "--------------------------------------------------\n",
      "artist (object)\n",
      "\tNA Values:  0\n",
      "\tUnique Values:  3083\n",
      "--------------------------------------------------\n",
      "year (int64)\n",
      "\tNA Values:  0\n",
      "\tUnique Values:  108\n",
      "--------------------------------------------------\n",
      "duration (int64)\n",
      "\tNA Values:  0\n",
      "\tUnique Values:  8612\n",
      "--------------------------------------------------\n",
      "time_signature (int64)\n",
      "\tNA Values:  0\n",
      "\tUnique Values:  5\n",
      "--------------------------------------------------\n",
      "danceability (float64)\n",
      "\tNA Values:  0\n",
      "\tUnique Values:  840\n",
      "--------------------------------------------------\n",
      "energy (float64)\n",
      "\tNA Values:  0\n",
      "\tUnique Values:  1145\n",
      "--------------------------------------------------\n",
      "key (int64)\n",
      "\tNA Values:  0\n",
      "\tUnique Values:  12\n",
      "--------------------------------------------------\n",
      "loudness (float64)\n",
      "\tNA Values:  0\n",
      "\tUnique Values:  9061\n",
      "--------------------------------------------------\n",
      "mode (int64)\n",
      "\tNA Values:  0\n",
      "\tUnique Values:  2\n",
      "--------------------------------------------------\n",
      "speechiness (float64)\n",
      "\tNA Values:  0\n",
      "\tUnique Values:  1167\n",
      "--------------------------------------------------\n",
      "acousticness (float64)\n",
      "\tNA Values:  0\n",
      "\tUnique Values:  3260\n",
      "--------------------------------------------------\n",
      "instrumentalness (float64)\n",
      "\tNA Values:  0\n",
      "\tUnique Values:  4113\n",
      "--------------------------------------------------\n",
      "liveness (float64)\n",
      "\tNA Values:  0\n",
      "\tUnique Values:  1543\n",
      "--------------------------------------------------\n",
      "valence (float64)\n",
      "\tNA Values:  0\n",
      "\tUnique Values:  1167\n",
      "--------------------------------------------------\n",
      "tempo (float64)\n",
      "\tNA Values:  0\n",
      "\tUnique Values:  12984\n",
      "--------------------------------------------------\n",
      "popularity (int64)\n",
      "\tNA Values:  0\n",
      "\tUnique Values:  98\n",
      "--------------------------------------------------\n",
      "genre (object)\n",
      "\tNA Values:  0\n",
      "\tUnique Values:  19\n",
      "--------------------------------------------------\n"
     ]
    }
   ],
   "execution_count": 31
  },
  {
   "metadata": {},
   "cell_type": "markdown",
   "source": "**Shape of the Data**",
   "id": "df2f47f4763abe84"
  },
  {
   "metadata": {
    "ExecuteTime": {
     "end_time": "2024-10-04T01:30:39.039410Z",
     "start_time": "2024-10-04T01:30:39.034775Z"
    }
   },
   "cell_type": "code",
   "source": "df.shape",
   "id": "5f821977b67df9e0",
   "outputs": [
    {
     "data": {
      "text/plain": [
       "(15150, 18)"
      ]
     },
     "execution_count": 32,
     "metadata": {},
     "output_type": "execute_result"
    }
   ],
   "execution_count": 32
  },
  {
   "metadata": {},
   "cell_type": "markdown",
   "source": "**Missing Values**",
   "id": "cd1a050d77bdbd8c"
  },
  {
   "metadata": {},
   "cell_type": "markdown",
   "source": "**View Missing Values**",
   "id": "c95f70db3a6cf4f7"
  },
  {
   "metadata": {
    "ExecuteTime": {
     "end_time": "2024-10-04T01:30:39.553926Z",
     "start_time": "2024-10-04T01:30:39.548417Z"
    }
   },
   "cell_type": "code",
   "source": [
    "missing_values = df.isnull().sum()\n",
    "print(\"Missing Values:\\n\", missing_values)"
   ],
   "id": "eec7093a20d4b353",
   "outputs": [
    {
     "name": "stdout",
     "output_type": "stream",
     "text": [
      "Missing Values:\n",
      " track               0\n",
      "artist              0\n",
      "year                0\n",
      "duration            0\n",
      "time_signature      0\n",
      "danceability        0\n",
      "energy              0\n",
      "key                 0\n",
      "loudness            0\n",
      "mode                0\n",
      "speechiness         0\n",
      "acousticness        0\n",
      "instrumentalness    0\n",
      "liveness            0\n",
      "valence             0\n",
      "tempo               0\n",
      "popularity          0\n",
      "genre               0\n",
      "dtype: int64\n"
     ]
    }
   ],
   "execution_count": 33
  },
  {
   "metadata": {},
   "cell_type": "markdown",
   "source": "### Exploratory Analysis",
   "id": "facb97814135459e"
  },
  {
   "metadata": {
    "ExecuteTime": {
     "end_time": "2024-10-04T01:30:39.813057Z",
     "start_time": "2024-10-04T01:30:39.810546Z"
    }
   },
   "cell_type": "code",
   "source": "continuous_cols = [\"duration\", \"danceability\", \"energy\", \"loudness\", \"speechiness\", \"acousticness\", \"instrumentalness\", \"liveness\", \"valence\", \"tempo\"]",
   "id": "a4458f835e6c62f4",
   "outputs": [],
   "execution_count": 34
  },
  {
   "metadata": {
    "ExecuteTime": {
     "end_time": "2024-10-04T01:30:40.057563Z",
     "start_time": "2024-10-04T01:30:40.054615Z"
    }
   },
   "cell_type": "code",
   "source": "discrete_cols = [\"year\", \"key\", \"popularity\"]",
   "id": "a98be2925c9f0512",
   "outputs": [],
   "execution_count": 35
  },
  {
   "metadata": {
    "ExecuteTime": {
     "end_time": "2024-10-04T01:30:40.178187Z",
     "start_time": "2024-10-04T01:30:40.175435Z"
    }
   },
   "cell_type": "code",
   "source": "ordinal_cols = [\"time_signature\", \"mode\"]",
   "id": "1ba9b6fdddd3fa2",
   "outputs": [],
   "execution_count": 36
  },
  {
   "metadata": {
    "ExecuteTime": {
     "end_time": "2024-10-04T01:30:40.223229Z",
     "start_time": "2024-10-04T01:30:40.220901Z"
    }
   },
   "cell_type": "code",
   "source": "nominal_cols = [\"track\", \"artist\", \"genre\"]",
   "id": "7465ab19e1c0ca76",
   "outputs": [],
   "execution_count": 37
  },
  {
   "metadata": {
    "ExecuteTime": {
     "end_time": "2024-10-04T01:30:40.238514Z",
     "start_time": "2024-10-04T01:30:40.235662Z"
    }
   },
   "cell_type": "code",
   "source": "import matplotlib.pyplot as plt",
   "id": "33306acfbb4999b3",
   "outputs": [],
   "execution_count": 38
  },
  {
   "metadata": {},
   "cell_type": "markdown",
   "source": "",
   "id": "6c3b9f68289df76f"
  },
  {
   "metadata": {
    "ExecuteTime": {
     "end_time": "2024-10-04T01:30:40.415241Z",
     "start_time": "2024-10-04T01:30:40.413238Z"
    }
   },
   "cell_type": "code",
   "source": "",
   "id": "7a3b6ed7cc3ecafb",
   "outputs": [],
   "execution_count": null
  }
 ],
 "metadata": {
  "kernelspec": {
   "display_name": "Python 3 (ipykernel)",
   "language": "python",
   "name": "python3"
  },
  "language_info": {
   "codemirror_mode": {
    "name": "ipython",
    "version": 3
   },
   "file_extension": ".py",
   "mimetype": "text/x-python",
   "name": "python",
   "nbconvert_exporter": "python",
   "pygments_lexer": "ipython3",
   "version": "3.12.2"
  }
 },
 "nbformat": 4,
 "nbformat_minor": 5
}
